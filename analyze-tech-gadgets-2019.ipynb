{
 "cells": [
  {
   "cell_type": "markdown",
   "metadata": {},
   "source": [
    "# Python Data Analysis of Tech Gadgets Sales with Pandas"
   ]
  },
  {
   "cell_type": "code",
   "execution_count": 1,
   "metadata": {},
   "outputs": [],
   "source": [
    "import pandas as pd\n",
    "import os\n",
    "import sys\n",
    "import matplotlib.pyplot as plt"
   ]
  },
  {
   "cell_type": "markdown",
   "metadata": {},
   "source": [
    "## Merging Data Files"
   ]
  },
  {
   "cell_type": "code",
   "execution_count": 2,
   "metadata": {},
   "outputs": [
    {
     "name": "stdout",
     "output_type": "stream",
     "text": [
      "There are 12 files in the directory: ./data.\n",
      "Here is the list of the files read: \n",
      "['gadget-sales-april-2019.csv', 'gadget-sales-august-2019.csv', 'gadget-sales-december-2019.csv', 'gadget-sales-february-2019.csv', 'gadget-sales-january-2019.csv', 'gadget-sales-july-2019.csv', 'gadget-sales-june-2019.csv', 'gadget-sales-march-2019.csv', 'gadget-sales-may-2019.csv', 'gadget-sales-november-2019.csv', 'gadget-sales-october-2019.csv', 'gadget-sales-september-2019.csv']\n"
     ]
    },
    {
     "data": {
      "text/html": [
       "<div>\n",
       "<style scoped>\n",
       "    .dataframe tbody tr th:only-of-type {\n",
       "        vertical-align: middle;\n",
       "    }\n",
       "\n",
       "    .dataframe tbody tr th {\n",
       "        vertical-align: top;\n",
       "    }\n",
       "\n",
       "    .dataframe thead th {\n",
       "        text-align: right;\n",
       "    }\n",
       "</style>\n",
       "<table border=\"1\" class=\"dataframe\">\n",
       "  <thead>\n",
       "    <tr style=\"text-align: right;\">\n",
       "      <th></th>\n",
       "      <th>index</th>\n",
       "      <th>Order ID</th>\n",
       "      <th>Product</th>\n",
       "      <th>Quantity Ordered</th>\n",
       "      <th>Price Each</th>\n",
       "      <th>Order Date</th>\n",
       "      <th>Purchase Address</th>\n",
       "    </tr>\n",
       "  </thead>\n",
       "  <tbody>\n",
       "    <tr>\n",
       "      <th>0</th>\n",
       "      <td>0</td>\n",
       "      <td>176558</td>\n",
       "      <td>USB-C Charging Cable</td>\n",
       "      <td>2</td>\n",
       "      <td>11.95</td>\n",
       "      <td>04/19/19 08:46</td>\n",
       "      <td>917 1st St, Dallas, TX 75001</td>\n",
       "    </tr>\n",
       "    <tr>\n",
       "      <th>1</th>\n",
       "      <td>1</td>\n",
       "      <td>NaN</td>\n",
       "      <td>NaN</td>\n",
       "      <td>NaN</td>\n",
       "      <td>NaN</td>\n",
       "      <td>NaN</td>\n",
       "      <td>NaN</td>\n",
       "    </tr>\n",
       "    <tr>\n",
       "      <th>2</th>\n",
       "      <td>2</td>\n",
       "      <td>176559</td>\n",
       "      <td>Bose SoundSport Headphones</td>\n",
       "      <td>1</td>\n",
       "      <td>99.99</td>\n",
       "      <td>04/07/19 22:30</td>\n",
       "      <td>682 Chestnut St, Boston, MA 02215</td>\n",
       "    </tr>\n",
       "    <tr>\n",
       "      <th>3</th>\n",
       "      <td>3</td>\n",
       "      <td>176560</td>\n",
       "      <td>Google Phone</td>\n",
       "      <td>1</td>\n",
       "      <td>600</td>\n",
       "      <td>04/12/19 14:38</td>\n",
       "      <td>669 Spruce St, Los Angeles, CA 90001</td>\n",
       "    </tr>\n",
       "    <tr>\n",
       "      <th>4</th>\n",
       "      <td>4</td>\n",
       "      <td>176560</td>\n",
       "      <td>Wired Headphones</td>\n",
       "      <td>1</td>\n",
       "      <td>11.99</td>\n",
       "      <td>04/12/19 14:38</td>\n",
       "      <td>669 Spruce St, Los Angeles, CA 90001</td>\n",
       "    </tr>\n",
       "    <tr>\n",
       "      <th>...</th>\n",
       "      <td>...</td>\n",
       "      <td>...</td>\n",
       "      <td>...</td>\n",
       "      <td>...</td>\n",
       "      <td>...</td>\n",
       "      <td>...</td>\n",
       "      <td>...</td>\n",
       "    </tr>\n",
       "    <tr>\n",
       "      <th>186845</th>\n",
       "      <td>186845</td>\n",
       "      <td>259353</td>\n",
       "      <td>AAA Batteries (4-pack)</td>\n",
       "      <td>3</td>\n",
       "      <td>2.99</td>\n",
       "      <td>09/17/19 20:56</td>\n",
       "      <td>840 Highland St, Los Angeles, CA 90001</td>\n",
       "    </tr>\n",
       "    <tr>\n",
       "      <th>186846</th>\n",
       "      <td>186846</td>\n",
       "      <td>259354</td>\n",
       "      <td>iPhone</td>\n",
       "      <td>1</td>\n",
       "      <td>700</td>\n",
       "      <td>09/01/19 16:00</td>\n",
       "      <td>216 Dogwood St, San Francisco, CA 94016</td>\n",
       "    </tr>\n",
       "    <tr>\n",
       "      <th>186847</th>\n",
       "      <td>186847</td>\n",
       "      <td>259355</td>\n",
       "      <td>iPhone</td>\n",
       "      <td>1</td>\n",
       "      <td>700</td>\n",
       "      <td>09/23/19 07:39</td>\n",
       "      <td>220 12th St, San Francisco, CA 94016</td>\n",
       "    </tr>\n",
       "    <tr>\n",
       "      <th>186848</th>\n",
       "      <td>186848</td>\n",
       "      <td>259356</td>\n",
       "      <td>34in Ultrawide Monitor</td>\n",
       "      <td>1</td>\n",
       "      <td>379.99</td>\n",
       "      <td>09/19/19 17:30</td>\n",
       "      <td>511 Forest St, San Francisco, CA 94016</td>\n",
       "    </tr>\n",
       "    <tr>\n",
       "      <th>186849</th>\n",
       "      <td>186849</td>\n",
       "      <td>259357</td>\n",
       "      <td>USB-C Charging Cable</td>\n",
       "      <td>1</td>\n",
       "      <td>11.95</td>\n",
       "      <td>09/30/19 00:18</td>\n",
       "      <td>250 Meadow St, San Francisco, CA 94016</td>\n",
       "    </tr>\n",
       "  </tbody>\n",
       "</table>\n",
       "<p>186850 rows × 7 columns</p>\n",
       "</div>"
      ],
      "text/plain": [
       "         index Order ID                     Product Quantity Ordered  \\\n",
       "0            0   176558        USB-C Charging Cable                2   \n",
       "1            1      NaN                         NaN              NaN   \n",
       "2            2   176559  Bose SoundSport Headphones                1   \n",
       "3            3   176560                Google Phone                1   \n",
       "4            4   176560            Wired Headphones                1   \n",
       "...        ...      ...                         ...              ...   \n",
       "186845  186845   259353      AAA Batteries (4-pack)                3   \n",
       "186846  186846   259354                      iPhone                1   \n",
       "186847  186847   259355                      iPhone                1   \n",
       "186848  186848   259356      34in Ultrawide Monitor                1   \n",
       "186849  186849   259357        USB-C Charging Cable                1   \n",
       "\n",
       "       Price Each      Order Date                         Purchase Address  \n",
       "0           11.95  04/19/19 08:46             917 1st St, Dallas, TX 75001  \n",
       "1             NaN             NaN                                      NaN  \n",
       "2           99.99  04/07/19 22:30        682 Chestnut St, Boston, MA 02215  \n",
       "3             600  04/12/19 14:38     669 Spruce St, Los Angeles, CA 90001  \n",
       "4           11.99  04/12/19 14:38     669 Spruce St, Los Angeles, CA 90001  \n",
       "...           ...             ...                                      ...  \n",
       "186845       2.99  09/17/19 20:56   840 Highland St, Los Angeles, CA 90001  \n",
       "186846        700  09/01/19 16:00  216 Dogwood St, San Francisco, CA 94016  \n",
       "186847        700  09/23/19 07:39     220 12th St, San Francisco, CA 94016  \n",
       "186848     379.99  09/19/19 17:30   511 Forest St, San Francisco, CA 94016  \n",
       "186849      11.95  09/30/19 00:18   250 Meadow St, San Francisco, CA 94016  \n",
       "\n",
       "[186850 rows x 7 columns]"
      ]
     },
     "execution_count": 2,
     "metadata": {},
     "output_type": "execute_result"
    }
   ],
   "source": [
    "## Get the list of all files in the directory\n",
    "file_path_data = \"./data\"\n",
    "files = [file for file in os.listdir(file_path_data) if not file.startswith('.')] \n",
    "print(f\"There are {len(files)} files in the directory: {file_path_data}.\")\n",
    "print(f\"Here is the list of the files read: \\n{files}\")\n",
    "\n",
    "df_all_months = pd.DataFrame()\n",
    "\n",
    "## Combine data files\n",
    "for file in files:\n",
    "\t## Current spreadsheet\n",
    "\tcurrent_file = f\"{file_path_data}/{file}\"\n",
    "\ttry: \n",
    "\t\tdf_month = pd.read_csv(current_file)\n",
    "\texcept: \n",
    "\t\tprint(f\"An error occurred while reading the file: {current_file}\")\n",
    "\t\tsys.exit(1)\n",
    "\t## Concatenate Pandas DataFrame along the index axis \n",
    "\tdf_all_months = pd.concat([df_all_months, df_month])\n",
    "\n",
    "## Output the combined data frames to 1 file\n",
    "filename_output = \"all-gadget-sales-2019.csv\"\n",
    "file_path_output = f\"./output/{filename_output}\"\n",
    "df_all_months.to_csv(file_path_output, index=False)\n",
    "# print(df_all_months.head())\n",
    "\n",
    "## Read in the updated DataFrame in\n",
    "df_all_sales = pd.read_csv(file_path_output)\n",
    "df_all_sales.reset_index()\n",
    "# print(df_all_sales.head())\n",
    "\n",
    "## Check the new DataFrame\n",
    "# print(df_all_months.equals(df_all_sales))\n",
    "# print(df_all_months.index.values)\n",
    "# print(df_all_sales.index.values)"
   ]
  },
  {
   "cell_type": "markdown",
   "metadata": {},
   "source": [
    "## Data Cleaning"
   ]
  },
  {
   "cell_type": "markdown",
   "metadata": {},
   "source": [
    "The best way to find out what to clean is to perform operations and get errors. Based on the errors, we decide how to go about cleaning the data. "
   ]
  },
  {
   "cell_type": "code",
   "execution_count": 3,
   "metadata": {},
   "outputs": [
    {
     "name": "stdout",
     "output_type": "stream",
     "text": [
      "     Order ID Product Quantity Ordered Price Each Order Date Purchase Address\n",
      "1         NaN     NaN              NaN        NaN        NaN              NaN\n",
      "356       NaN     NaN              NaN        NaN        NaN              NaN\n",
      "735       NaN     NaN              NaN        NaN        NaN              NaN\n",
      "1433      NaN     NaN              NaN        NaN        NaN              NaN\n",
      "1553      NaN     NaN              NaN        NaN        NaN              NaN\n",
      "  Order ID                     Product Quantity Ordered Price Each  \\\n",
      "0   176558        USB-C Charging Cable                2      11.95   \n",
      "2   176559  Bose SoundSport Headphones                1      99.99   \n",
      "3   176560                Google Phone                1        600   \n",
      "4   176560            Wired Headphones                1      11.99   \n",
      "5   176561            Wired Headphones                1      11.99   \n",
      "\n",
      "       Order Date                      Purchase Address  \n",
      "0  04/19/19 08:46          917 1st St, Dallas, TX 75001  \n",
      "2  04/07/19 22:30     682 Chestnut St, Boston, MA 02215  \n",
      "3  04/12/19 14:38  669 Spruce St, Los Angeles, CA 90001  \n",
      "4  04/12/19 14:38  669 Spruce St, Los Angeles, CA 90001  \n",
      "5  04/30/19 09:27     333 8th St, Los Angeles, CA 90001  \n"
     ]
    }
   ],
   "source": [
    "## Find rows with all NA values\n",
    "## isna() - returns a boolean DataFrame that indicates whether each element is NA\n",
    "## any(axis=1) - reduces columns of the boolean DataFrame to only a boolean Series\n",
    "df_nan = df_all_sales[df_all_sales.isna().any(axis=1)]\n",
    "print(df_nan.head())\n",
    "\n",
    "## Remove rows with all NA values\n",
    "df_all_sales.dropna(how='all', inplace=True)\n",
    "print(df_all_sales.head())"
   ]
  },
  {
   "cell_type": "markdown",
   "metadata": {},
   "source": [
    "When we created the `Month` column, we took the first 2 letters in the `Order Date` column and converted the `Month` column to the integer type, which resulted in `ValueError`. So, we came up here to perform some data cleaning operations to get rid of the text \"Or\" in `Order Date` column before we attempt the data conversion again."
   ]
  },
  {
   "cell_type": "code",
   "execution_count": 4,
   "metadata": {},
   "outputs": [
    {
     "name": "stdout",
     "output_type": "stream",
     "text": [
      "  Order ID                     Product Quantity Ordered Price Each  \\\n",
      "0   176558        USB-C Charging Cable                2      11.95   \n",
      "2   176559  Bose SoundSport Headphones                1      99.99   \n",
      "3   176560                Google Phone                1        600   \n",
      "4   176560            Wired Headphones                1      11.99   \n",
      "5   176561            Wired Headphones                1      11.99   \n",
      "\n",
      "       Order Date                      Purchase Address  \n",
      "0  04/19/19 08:46          917 1st St, Dallas, TX 75001  \n",
      "2  04/07/19 22:30     682 Chestnut St, Boston, MA 02215  \n",
      "3  04/12/19 14:38  669 Spruce St, Los Angeles, CA 90001  \n",
      "4  04/12/19 14:38  669 Spruce St, Los Angeles, CA 90001  \n",
      "5  04/30/19 09:27     333 8th St, Los Angeles, CA 90001  \n"
     ]
    }
   ],
   "source": [
    "df_all_sales = df_all_sales[df_all_sales['Order Date'].str[0:2] != 'Or']\n",
    "print(df_all_sales.head())"
   ]
  },
  {
   "cell_type": "markdown",
   "metadata": {},
   "source": [
    "### Modifying DataFrame Column Data Type"
   ]
  },
  {
   "cell_type": "code",
   "execution_count": 5,
   "metadata": {},
   "outputs": [
    {
     "name": "stdout",
     "output_type": "stream",
     "text": [
      "Order ID            object\n",
      "Product             object\n",
      "Quantity Ordered    object\n",
      "Price Each          object\n",
      "Order Date          object\n",
      "Purchase Address    object\n",
      "dtype: object\n",
      "Order ID             object\n",
      "Product              object\n",
      "Quantity Ordered      int64\n",
      "Price Each          float64\n",
      "Order Date           object\n",
      "Purchase Address     object\n",
      "dtype: object\n"
     ]
    }
   ],
   "source": [
    "## Show the data type of each column\n",
    "print(df_all_sales.dtypes)\n",
    "## Modify the data type of each column in DataFrame\n",
    "# df_all_sales['Quantity Ordered'] = pd.to_numeric(df_all_sales['Quantity Ordered'])\n",
    "# df_all_sales['Price Each'] = pd.to_numeric(df_all_sales['Price Each'])\n",
    "## errors='coerce' - invalid parsing will be set as NaN\n",
    "df_all_sales[['Quantity Ordered', 'Price Each']] = df_all_sales[['Quantity Ordered', 'Price Each']].apply(pd.to_numeric, errors='coerce')\n",
    "print(df_all_sales.dtypes)"
   ]
  },
  {
   "cell_type": "markdown",
   "metadata": {},
   "source": [
    "### Augmenting Data with Additional Columns"
   ]
  },
  {
   "cell_type": "markdown",
   "metadata": {},
   "source": [
    "1) `Month` column"
   ]
  },
  {
   "cell_type": "code",
   "execution_count": 19,
   "metadata": {},
   "outputs": [
    {
     "name": "stdout",
     "output_type": "stream",
     "text": [
      "  Order ID                     Product  Quantity Ordered  Price Each  \\\n",
      "0   176558        USB-C Charging Cable                 2       11.95   \n",
      "2   176559  Bose SoundSport Headphones                 1       99.99   \n",
      "3   176560                Google Phone                 1      600.00   \n",
      "4   176560            Wired Headphones                 1       11.99   \n",
      "5   176561            Wired Headphones                 1       11.99   \n",
      "\n",
      "       Order Date                      Purchase Address  Month  \\\n",
      "0  04/19/19 08:46          917 1st St, Dallas, TX 75001      4   \n",
      "2  04/07/19 22:30     682 Chestnut St, Boston, MA 02215      4   \n",
      "3  04/12/19 14:38  669 Spruce St, Los Angeles, CA 90001      4   \n",
      "4  04/12/19 14:38  669 Spruce St, Los Angeles, CA 90001      4   \n",
      "5  04/30/19 09:27     333 8th St, Los Angeles, CA 90001      4   \n",
      "\n",
      "                City   Sales  Hour  Minute  Count  \n",
      "0       Dallas  (TX)   23.90     8      46      1  \n",
      "2       Boston  (MA)   99.99    22      30      1  \n",
      "3  Los Angeles  (CA)  600.00    14      38      1  \n",
      "4  Los Angeles  (CA)   11.99    14      38      1  \n",
      "5  Los Angeles  (CA)   11.99     9      27      1  \n"
     ]
    }
   ],
   "source": [
    "## Add \"Month\" column\n",
    "## Method 1\n",
    "# df_all_sales['Month'] = df_all_sales['Order Date'].str[0:2]\n",
    "# df_all_sales['Month'] = df_all_sales['Month'].astype('int32')\n",
    "# print(df_all_sales.head())\n",
    "## Method 2\n",
    "df_all_sales['Month'] = pd.to_datetime(df_all_sales['Order Date'], format=r\"%m/%d/%y %H:%M\").dt.month\n",
    "print(df_all_sales.head())"
   ]
  },
  {
   "cell_type": "markdown",
   "metadata": {},
   "source": [
    "2) `City` column"
   ]
  },
  {
   "cell_type": "code",
   "execution_count": 28,
   "metadata": {},
   "outputs": [
    {
     "name": "stdout",
     "output_type": "stream",
     "text": [
      "  Order ID                     Product  Quantity Ordered  Price Each  \\\n",
      "0   176558        USB-C Charging Cable                 2       11.95   \n",
      "2   176559  Bose SoundSport Headphones                 1       99.99   \n",
      "3   176560                Google Phone                 1      600.00   \n",
      "4   176560            Wired Headphones                 1       11.99   \n",
      "5   176561            Wired Headphones                 1       11.99   \n",
      "\n",
      "       Order Date                      Purchase Address  Month  \\\n",
      "0  04/19/19 08:46          917 1st St, Dallas, TX 75001      4   \n",
      "2  04/07/19 22:30     682 Chestnut St, Boston, MA 02215      4   \n",
      "3  04/12/19 14:38  669 Spruce St, Los Angeles, CA 90001      4   \n",
      "4  04/12/19 14:38  669 Spruce St, Los Angeles, CA 90001      4   \n",
      "5  04/30/19 09:27     333 8th St, Los Angeles, CA 90001      4   \n",
      "\n",
      "               City   Sales  Hour  Minute  Count  \n",
      "0       Dallas (TX)   23.90     8      46      1  \n",
      "2       Boston (MA)   99.99    22      30      1  \n",
      "3  Los Angeles (CA)  600.00    14      38      1  \n",
      "4  Los Angeles (CA)   11.99    14      38      1  \n",
      "5  Los Angeles (CA)   11.99     9      27      1  \n"
     ]
    }
   ],
   "source": [
    "## Add \"City\" column\n",
    "def get_city(address):\n",
    "\treturn address.split(\",\")[-2].strip()\n",
    "\n",
    "def get_state(address):\n",
    "\treturn address.split(\",\")[-1].strip().split(\" \")[0]\n",
    "\n",
    "df_all_sales['City'] = df_all_sales['Purchase Address'].apply(lambda a: f\"{get_city(a)} ({get_state(a)})\")\n",
    "print(df_all_sales.head())"
   ]
  },
  {
   "cell_type": "markdown",
   "metadata": {},
   "source": [
    "## Data Exploration"
   ]
  },
  {
   "cell_type": "markdown",
   "metadata": {},
   "source": [
    "**Question 01: What was the best month for sales? How much was earned that month?**"
   ]
  },
  {
   "cell_type": "code",
   "execution_count": 33,
   "metadata": {},
   "outputs": [],
   "source": [
    "df_all_sales['Sales'] = df_all_sales['Quantity Ordered'] * df_all_sales['Price Each']"
   ]
  },
  {
   "cell_type": "code",
   "execution_count": 36,
   "metadata": {},
   "outputs": [
    {
     "data": {
      "text/html": [
       "<div>\n",
       "<style scoped>\n",
       "    .dataframe tbody tr th:only-of-type {\n",
       "        vertical-align: middle;\n",
       "    }\n",
       "\n",
       "    .dataframe tbody tr th {\n",
       "        vertical-align: top;\n",
       "    }\n",
       "\n",
       "    .dataframe thead th {\n",
       "        text-align: right;\n",
       "    }\n",
       "</style>\n",
       "<table border=\"1\" class=\"dataframe\">\n",
       "  <thead>\n",
       "    <tr style=\"text-align: right;\">\n",
       "      <th></th>\n",
       "      <th>Quantity Ordered</th>\n",
       "      <th>Price Each</th>\n",
       "      <th>Sales</th>\n",
       "      <th>Hour</th>\n",
       "      <th>Minute</th>\n",
       "      <th>Count</th>\n",
       "    </tr>\n",
       "    <tr>\n",
       "      <th>Month</th>\n",
       "      <th></th>\n",
       "      <th></th>\n",
       "      <th></th>\n",
       "      <th></th>\n",
       "      <th></th>\n",
       "      <th></th>\n",
       "    </tr>\n",
       "  </thead>\n",
       "  <tbody>\n",
       "    <tr>\n",
       "      <th>1</th>\n",
       "      <td>10903</td>\n",
       "      <td>1811768.38</td>\n",
       "      <td>1822256.73</td>\n",
       "      <td>139485</td>\n",
       "      <td>282440</td>\n",
       "      <td>9709</td>\n",
       "    </tr>\n",
       "    <tr>\n",
       "      <th>2</th>\n",
       "      <td>13449</td>\n",
       "      <td>2188884.72</td>\n",
       "      <td>2202022.42</td>\n",
       "      <td>172669</td>\n",
       "      <td>354885</td>\n",
       "      <td>11975</td>\n",
       "    </tr>\n",
       "    <tr>\n",
       "      <th>3</th>\n",
       "      <td>17005</td>\n",
       "      <td>2791207.83</td>\n",
       "      <td>2807100.38</td>\n",
       "      <td>218969</td>\n",
       "      <td>447559</td>\n",
       "      <td>15153</td>\n",
       "    </tr>\n",
       "    <tr>\n",
       "      <th>4</th>\n",
       "      <td>20558</td>\n",
       "      <td>3367671.02</td>\n",
       "      <td>3390670.24</td>\n",
       "      <td>262259</td>\n",
       "      <td>544186</td>\n",
       "      <td>18279</td>\n",
       "    </tr>\n",
       "    <tr>\n",
       "      <th>5</th>\n",
       "      <td>18667</td>\n",
       "      <td>3135125.13</td>\n",
       "      <td>3152606.75</td>\n",
       "      <td>238780</td>\n",
       "      <td>487899</td>\n",
       "      <td>16566</td>\n",
       "    </tr>\n",
       "    <tr>\n",
       "      <th>6</th>\n",
       "      <td>15253</td>\n",
       "      <td>2562025.61</td>\n",
       "      <td>2577802.26</td>\n",
       "      <td>195528</td>\n",
       "      <td>402436</td>\n",
       "      <td>13554</td>\n",
       "    </tr>\n",
       "    <tr>\n",
       "      <th>7</th>\n",
       "      <td>16072</td>\n",
       "      <td>2632539.56</td>\n",
       "      <td>2647775.76</td>\n",
       "      <td>206169</td>\n",
       "      <td>417349</td>\n",
       "      <td>14293</td>\n",
       "    </tr>\n",
       "    <tr>\n",
       "      <th>8</th>\n",
       "      <td>13448</td>\n",
       "      <td>2230345.42</td>\n",
       "      <td>2244467.88</td>\n",
       "      <td>172289</td>\n",
       "      <td>353857</td>\n",
       "      <td>11961</td>\n",
       "    </tr>\n",
       "    <tr>\n",
       "      <th>9</th>\n",
       "      <td>13109</td>\n",
       "      <td>2084992.09</td>\n",
       "      <td>2097560.13</td>\n",
       "      <td>168513</td>\n",
       "      <td>341698</td>\n",
       "      <td>11621</td>\n",
       "    </tr>\n",
       "    <tr>\n",
       "      <th>10</th>\n",
       "      <td>22703</td>\n",
       "      <td>3715554.83</td>\n",
       "      <td>3736726.88</td>\n",
       "      <td>290650</td>\n",
       "      <td>598437</td>\n",
       "      <td>20282</td>\n",
       "    </tr>\n",
       "    <tr>\n",
       "      <th>11</th>\n",
       "      <td>19798</td>\n",
       "      <td>3180600.68</td>\n",
       "      <td>3199603.20</td>\n",
       "      <td>254865</td>\n",
       "      <td>518231</td>\n",
       "      <td>17573</td>\n",
       "    </tr>\n",
       "    <tr>\n",
       "      <th>12</th>\n",
       "      <td>28114</td>\n",
       "      <td>4588415.41</td>\n",
       "      <td>4613443.34</td>\n",
       "      <td>359978</td>\n",
       "      <td>733082</td>\n",
       "      <td>24984</td>\n",
       "    </tr>\n",
       "  </tbody>\n",
       "</table>\n",
       "</div>"
      ],
      "text/plain": [
       "       Quantity Ordered  Price Each       Sales    Hour  Minute  Count\n",
       "Month                                                                 \n",
       "1                 10903  1811768.38  1822256.73  139485  282440   9709\n",
       "2                 13449  2188884.72  2202022.42  172669  354885  11975\n",
       "3                 17005  2791207.83  2807100.38  218969  447559  15153\n",
       "4                 20558  3367671.02  3390670.24  262259  544186  18279\n",
       "5                 18667  3135125.13  3152606.75  238780  487899  16566\n",
       "6                 15253  2562025.61  2577802.26  195528  402436  13554\n",
       "7                 16072  2632539.56  2647775.76  206169  417349  14293\n",
       "8                 13448  2230345.42  2244467.88  172289  353857  11961\n",
       "9                 13109  2084992.09  2097560.13  168513  341698  11621\n",
       "10                22703  3715554.83  3736726.88  290650  598437  20282\n",
       "11                19798  3180600.68  3199603.20  254865  518231  17573\n",
       "12                28114  4588415.41  4613443.34  359978  733082  24984"
      ]
     },
     "execution_count": 36,
     "metadata": {},
     "output_type": "execute_result"
    }
   ],
   "source": [
    "df_all_sales.groupby(['Month']).sum()"
   ]
  },
  {
   "cell_type": "code",
   "execution_count": 78,
   "metadata": {},
   "outputs": [
    {
     "data": {
      "image/png": "[encoded data removed]",
      "text/plain": [
       "<Figure size 640x480 with 1 Axes>"
      ]
     },
     "metadata": {},
     "output_type": "display_data"
    }
   ],
   "source": [
    "## Visualize the results\n",
    "months = range(1,13)\n",
    "# print(months)\n",
    "\n",
    "plt.bar(months, df_all_sales.groupby(['Month']).sum()['Sales'], color='#008080')\n",
    "plt.xlabel('Month')\n",
    "plt.ylabel('Sales in USD ($)')\n",
    "plt.xticks(months)\n",
    "plt.show()"
   ]
  },
  {
   "cell_type": "markdown",
   "metadata": {},
   "source": [
    "**Answer**"
   ]
  },
  {
   "cell_type": "markdown",
   "metadata": {},
   "source": [
    "December, USD$4613443.34"
   ]
  },
  {
   "cell_type": "markdown",
   "metadata": {},
   "source": [
    "**Question 2: What city sold the most products?**"
   ]
  },
  {
   "cell_type": "code",
   "execution_count": 40,
   "metadata": {},
   "outputs": [
    {
     "data": {
      "text/html": [
       "<div>\n",
       "<style scoped>\n",
       "    .dataframe tbody tr th:only-of-type {\n",
       "        vertical-align: middle;\n",
       "    }\n",
       "\n",
       "    .dataframe tbody tr th {\n",
       "        vertical-align: top;\n",
       "    }\n",
       "\n",
       "    .dataframe thead th {\n",
       "        text-align: right;\n",
       "    }\n",
       "</style>\n",
       "<table border=\"1\" class=\"dataframe\">\n",
       "  <thead>\n",
       "    <tr style=\"text-align: right;\">\n",
       "      <th></th>\n",
       "      <th>Quantity Ordered</th>\n",
       "      <th>Price Each</th>\n",
       "      <th>Month</th>\n",
       "      <th>Sales</th>\n",
       "      <th>Hour</th>\n",
       "      <th>Minute</th>\n",
       "      <th>Count</th>\n",
       "    </tr>\n",
       "    <tr>\n",
       "      <th>City</th>\n",
       "      <th></th>\n",
       "      <th></th>\n",
       "      <th></th>\n",
       "      <th></th>\n",
       "      <th></th>\n",
       "      <th></th>\n",
       "      <th></th>\n",
       "    </tr>\n",
       "  </thead>\n",
       "  <tbody>\n",
       "    <tr>\n",
       "      <th>Atlanta (GA)</th>\n",
       "      <td>16602</td>\n",
       "      <td>2779908.20</td>\n",
       "      <td>104794</td>\n",
       "      <td>2795498.58</td>\n",
       "      <td>214264</td>\n",
       "      <td>442932</td>\n",
       "      <td>14881</td>\n",
       "    </tr>\n",
       "    <tr>\n",
       "      <th>Austin (TX)</th>\n",
       "      <td>11153</td>\n",
       "      <td>1809873.61</td>\n",
       "      <td>69829</td>\n",
       "      <td>1819581.75</td>\n",
       "      <td>141946</td>\n",
       "      <td>289060</td>\n",
       "      <td>9905</td>\n",
       "    </tr>\n",
       "    <tr>\n",
       "      <th>Boston (MA)</th>\n",
       "      <td>22528</td>\n",
       "      <td>3637409.77</td>\n",
       "      <td>141112</td>\n",
       "      <td>3661642.01</td>\n",
       "      <td>288225</td>\n",
       "      <td>590442</td>\n",
       "      <td>19934</td>\n",
       "    </tr>\n",
       "    <tr>\n",
       "      <th>Dallas (TX)</th>\n",
       "      <td>16730</td>\n",
       "      <td>2752627.82</td>\n",
       "      <td>104620</td>\n",
       "      <td>2767975.40</td>\n",
       "      <td>214390</td>\n",
       "      <td>435155</td>\n",
       "      <td>14820</td>\n",
       "    </tr>\n",
       "    <tr>\n",
       "      <th>Los Angeles (CA)</th>\n",
       "      <td>33289</td>\n",
       "      <td>5421435.23</td>\n",
       "      <td>208325</td>\n",
       "      <td>5452570.80</td>\n",
       "      <td>427444</td>\n",
       "      <td>866638</td>\n",
       "      <td>29605</td>\n",
       "    </tr>\n",
       "    <tr>\n",
       "      <th>New York City (NY)</th>\n",
       "      <td>27932</td>\n",
       "      <td>4635370.83</td>\n",
       "      <td>175741</td>\n",
       "      <td>4664317.43</td>\n",
       "      <td>357696</td>\n",
       "      <td>733598</td>\n",
       "      <td>24876</td>\n",
       "    </tr>\n",
       "    <tr>\n",
       "      <th>Portland (ME)</th>\n",
       "      <td>2750</td>\n",
       "      <td>447189.25</td>\n",
       "      <td>17144</td>\n",
       "      <td>449758.27</td>\n",
       "      <td>35211</td>\n",
       "      <td>72856</td>\n",
       "      <td>2455</td>\n",
       "    </tr>\n",
       "    <tr>\n",
       "      <th>Portland (OR)</th>\n",
       "      <td>11303</td>\n",
       "      <td>1860558.22</td>\n",
       "      <td>70621</td>\n",
       "      <td>1870732.34</td>\n",
       "      <td>144421</td>\n",
       "      <td>295533</td>\n",
       "      <td>10010</td>\n",
       "    </tr>\n",
       "    <tr>\n",
       "      <th>San Francisco (CA)</th>\n",
       "      <td>50239</td>\n",
       "      <td>8211461.74</td>\n",
       "      <td>315520</td>\n",
       "      <td>8262203.91</td>\n",
       "      <td>643265</td>\n",
       "      <td>1319477</td>\n",
       "      <td>44732</td>\n",
       "    </tr>\n",
       "    <tr>\n",
       "      <th>Seattle (WA)</th>\n",
       "      <td>16553</td>\n",
       "      <td>2733296.01</td>\n",
       "      <td>104941</td>\n",
       "      <td>2747755.48</td>\n",
       "      <td>213292</td>\n",
       "      <td>436368</td>\n",
       "      <td>14732</td>\n",
       "    </tr>\n",
       "  </tbody>\n",
       "</table>\n",
       "</div>"
      ],
      "text/plain": [
       "                    Quantity Ordered  Price Each   Month       Sales    Hour  \\\n",
       "City                                                                           \n",
       "Atlanta (GA)                   16602  2779908.20  104794  2795498.58  214264   \n",
       "Austin (TX)                    11153  1809873.61   69829  1819581.75  141946   \n",
       "Boston (MA)                    22528  3637409.77  141112  3661642.01  288225   \n",
       "Dallas (TX)                    16730  2752627.82  104620  2767975.40  214390   \n",
       "Los Angeles (CA)               33289  5421435.23  208325  5452570.80  427444   \n",
       "New York City (NY)             27932  4635370.83  175741  4664317.43  357696   \n",
       "Portland (ME)                   2750   447189.25   17144   449758.27   35211   \n",
       "Portland (OR)                  11303  1860558.22   70621  1870732.34  144421   \n",
       "San Francisco (CA)             50239  8211461.74  315520  8262203.91  643265   \n",
       "Seattle (WA)                   16553  2733296.01  104941  2747755.48  213292   \n",
       "\n",
       "                     Minute  Count  \n",
       "City                                \n",
       "Atlanta (GA)         442932  14881  \n",
       "Austin (TX)          289060   9905  \n",
       "Boston (MA)          590442  19934  \n",
       "Dallas (TX)          435155  14820  \n",
       "Los Angeles (CA)     866638  29605  \n",
       "New York City (NY)   733598  24876  \n",
       "Portland (ME)         72856   2455  \n",
       "Portland (OR)        295533  10010  \n",
       "San Francisco (CA)  1319477  44732  \n",
       "Seattle (WA)         436368  14732  "
      ]
     },
     "execution_count": 40,
     "metadata": {},
     "output_type": "execute_result"
    }
   ],
   "source": [
    "df_all_sales.groupby(['City']).sum()"
   ]
  },
  {
   "cell_type": "code",
   "execution_count": 77,
   "metadata": {},
   "outputs": [
    {
     "name": "stdout",
     "output_type": "stream",
     "text": [
      "['Atlanta (GA)', 'Austin (TX)', 'Boston (MA)', 'Dallas (TX)', 'Los Angeles (CA)', 'New York City (NY)', 'Portland (ME)', 'Portland (OR)', 'San Francisco (CA)', 'Seattle (WA)']\n"
     ]
    },
    {
     "data": {
      "image/png": "[encoded data removed]",
      "text/plain": [
       "<Figure size 640x480 with 1 Axes>"
      ]
     },
     "metadata": {},
     "output_type": "display_data"
    }
   ],
   "source": [
    "## Visualize the results\n",
    "# cities = [x for x in df_all_sales.groupby(['City'])]\n",
    "# cities = [key for key, value in df_all_sales.groupby(['City'])]\n",
    "# cities = [city for city, df in df_all_sales.groupby(['City'])]\n",
    "cities = [city_and_df[0] for city_and_df in df_all_sales.groupby(['City'])]\n",
    "print(cities)\n",
    "\n",
    "plt.bar(cities, df_all_sales.groupby(['City']).sum()['Sales'], color='#008080')\n",
    "plt.xlabel('US City')\n",
    "plt.ylabel('Sales in USD ($)')\n",
    "plt.xticks(cities, rotation='vertical', size=8)\n",
    "plt.show()"
   ]
  },
  {
   "cell_type": "markdown",
   "metadata": {},
   "source": [
    "**Answer**"
   ]
  },
  {
   "cell_type": "markdown",
   "metadata": {},
   "source": [
    "San Francisco"
   ]
  },
  {
   "cell_type": "markdown",
   "metadata": {},
   "source": [
    "**Question 3: What time should we display advertisements to maximize the sales?**"
   ]
  },
  {
   "cell_type": "code",
   "execution_count": 13,
   "metadata": {},
   "outputs": [
    {
     "name": "stdout",
     "output_type": "stream",
     "text": [
      "  Order ID                     Product  Quantity Ordered  Price Each  \\\n",
      "0   176558        USB-C Charging Cable                 2       11.95   \n",
      "2   176559  Bose SoundSport Headphones                 1       99.99   \n",
      "3   176560                Google Phone                 1      600.00   \n",
      "4   176560            Wired Headphones                 1       11.99   \n",
      "5   176561            Wired Headphones                 1       11.99   \n",
      "\n",
      "       Order Date                      Purchase Address  Month  \\\n",
      "0  04/19/19 08:46          917 1st St, Dallas, TX 75001      4   \n",
      "2  04/07/19 22:30     682 Chestnut St, Boston, MA 02215      4   \n",
      "3  04/12/19 14:38  669 Spruce St, Los Angeles, CA 90001      4   \n",
      "4  04/12/19 14:38  669 Spruce St, Los Angeles, CA 90001      4   \n",
      "5  04/30/19 09:27     333 8th St, Los Angeles, CA 90001      4   \n",
      "\n",
      "                City   Sales  Hour  Minute  Count  \n",
      "0       Dallas  (TX)   23.90     8      46      1  \n",
      "2       Boston  (MA)   99.99    22      30      1  \n",
      "3  Los Angeles  (CA)  600.00    14      38      1  \n",
      "4  Los Angeles  (CA)   11.99    14      38      1  \n",
      "5  Los Angeles  (CA)   11.99     9      27      1  \n"
     ]
    }
   ],
   "source": [
    "## Add \"Hour\" and \"Minute\" columns\n",
    "df_all_sales['Hour'] = pd.to_datetime(df_all_sales['Order Date']).dt.hour\n",
    "df_all_sales['Minute'] = pd.to_datetime(df_all_sales['Order Date']).dt.minute\n",
    "df_all_sales['Count'] = 1\n",
    "print(df_all_sales.head())"
   ]
  },
  {
   "cell_type": "code",
   "execution_count": 76,
   "metadata": {},
   "outputs": [
    {
     "data": {
      "image/png": "[encoded data removed]",
      "text/plain": [
       "<Figure size 640x480 with 1 Axes>"
      ]
     },
     "metadata": {},
     "output_type": "display_data"
    }
   ],
   "source": [
    "## Visualize the results\n",
    "# hours = [x for x in df_all_sales.groupby(['Hour'])]\n",
    "# hours = [key for key, value in df_all_sales.groupby(['Hour'])]\n",
    "# hours = [hr for hr, df in df_all_sales.groupby(['Hour'])]\n",
    "hours = [hr_and_df[0] for hr_and_df in df_all_sales.groupby(['Hour'])]\n",
    "\n",
    "## df_all_sales.groupby(['Hour']).count() - a DataFrame\n",
    "## df_all_sales.groupby(['Hour']).count()['Count'] - a Series\n",
    "# print(df_all_sales.groupby(['Hour']).count())\n",
    "plt.plot(hours, df_all_sales.groupby(['Hour']).count()['Count'], color='#008080', marker='o', markersize=4)\n",
    "plt.xlabel('Hour')\n",
    "plt.ylabel('Number of Orders')\n",
    "plt.xticks(hours)\n",
    "plt.grid(visible=True, which=\"major\", axis=\"both\", color=\"#90E4C1\")\n",
    "plt.show()"
   ]
  },
  {
   "cell_type": "markdown",
   "metadata": {},
   "source": [
    "**Answer**"
   ]
  },
  {
   "cell_type": "markdown",
   "metadata": {},
   "source": [
    "Slightly before 11:00 or 19:00"
   ]
  },
  {
   "cell_type": "markdown",
   "metadata": {},
   "source": [
    "**Question 4: What products are most often sold together?**"
   ]
  },
  {
   "cell_type": "code",
   "execution_count": 97,
   "metadata": {},
   "outputs": [
    {
     "name": "stdout",
     "output_type": "stream",
     "text": [
      "<pandas.core.groupby.generic.DataFrameGroupBy object at 0x0000021DB8796220>\n",
      "<pandas.core.groupby.generic.SeriesGroupBy object at 0x0000021DB80EE8B0>\n"
     ]
    },
    {
     "name": "stderr",
     "output_type": "stream",
     "text": [
      "C:\\Users\\Asus\\AppData\\Local\\Temp\\ipykernel_18868\\1472717551.py:13: SettingWithCopyWarning: \n",
      "A value is trying to be set on a copy of a slice from a DataFrame.\n",
      "Try using .loc[row_indexer,col_indexer] = value instead\n",
      "\n",
      "See the caveats in the documentation: https://pandas.pydata.org/pandas-docs/stable/user_guide/indexing.html#returning-a-view-versus-a-copy\n",
      "  df['Grouped'] = df.groupby('Order ID')['Product'].transform(lambda x: ','.join(x))\n"
     ]
    }
   ],
   "source": [
    "## Select the rows with duplicated \"Order ID\"\n",
    "## duplicated() - returns boolean Series denoting duplicate rows\n",
    "## keep=False - mark all duplicates as True  \n",
    "# print(df_all_sales)\n",
    "# print(df_all_sales['Order ID'].duplicated(keep=False))\n",
    "# df = df_all_sales[df_all_sales['Order ID'].duplicated(keep=False)]\n",
    "df = df_all_sales[df_all_sales.duplicated(subset=['Order ID'], keep=False)]\n",
    "# print(df)\n",
    "\n",
    "# Referenced: https://stackoverflow.com/questions/27298178/concatenate-strings-from-several-rows-using-pandas-groupby\n",
    "print(df.groupby('Order ID'))\n",
    "print(df.groupby('Order ID')['Product'])\n",
    "df['Grouped'] = df.groupby('Order ID')['Product'].transform(lambda x: ','.join(x))\n",
    "df2 = df[['Order ID', 'Grouped']].drop_duplicates()"
   ]
  },
  {
   "cell_type": "code",
   "execution_count": 16,
   "metadata": {},
   "outputs": [
    {
     "name": "stdout",
     "output_type": "stream",
     "text": [
      "('iPhone', 'Lightning Charging Cable') 1005\n",
      "('Google Phone', 'USB-C Charging Cable') 987\n",
      "('iPhone', 'Wired Headphones') 447\n",
      "('Google Phone', 'Wired Headphones') 414\n",
      "('Vareebadd Phone', 'USB-C Charging Cable') 361\n",
      "('iPhone', 'Apple Airpods Headphones') 360\n",
      "('Google Phone', 'Bose SoundSport Headphones') 220\n",
      "('USB-C Charging Cable', 'Wired Headphones') 160\n",
      "('Vareebadd Phone', 'Wired Headphones') 143\n",
      "('Lightning Charging Cable', 'Wired Headphones') 92\n"
     ]
    }
   ],
   "source": [
    "# Referenced: https://stackoverflow.com/questions/52195887/counting-unique-pairs-of-numbers-into-a-python-dictionary\n",
    "from itertools import combinations\n",
    "from collections import Counter\n",
    "\n",
    "count = Counter()\n",
    "\n",
    "for row in df2['Grouped']:\n",
    "    row_list = row.split(',')\n",
    "    count.update(Counter(combinations(row_list, 2)))\n",
    "\n",
    "for key, value in count.most_common(10):\n",
    "    print(key, value)\n"
   ]
  },
  {
   "cell_type": "markdown",
   "metadata": {},
   "source": [
    "**Answer**"
   ]
  },
  {
   "cell_type": "markdown",
   "metadata": {},
   "source": []
  },
  {
   "cell_type": "markdown",
   "metadata": {},
   "source": [
    "**Question 5: What product was sold the most? Why do you think it is the most popular product?**"
   ]
  },
  {
   "cell_type": "code",
   "execution_count": 114,
   "metadata": {},
   "outputs": [
    {
     "name": "stdout",
     "output_type": "stream",
     "text": [
      "                            Quantity Ordered  Price Each   Month       Sales  \\\n",
      "Product                                                                        \n",
      "20in Monitor                            4129   451068.99   29336   454148.71   \n",
      "27in 4K Gaming Monitor                  6244  2429637.70   44440  2435097.56   \n",
      "27in FHD Monitor                        7550  1125974.93   52558  1132424.50   \n",
      "34in Ultrawide Monitor                  6199  2348718.19   43304  2355558.01   \n",
      "AA Batteries (4-pack)                  27635    79015.68  145558   106118.40   \n",
      "AAA Batteries (4-pack)                 31017    61716.59  146370    92740.83   \n",
      "Apple Airpods Headphones               15661  2332350.00  109477  2349150.00   \n",
      "Bose SoundSport Headphones             13457  1332366.75   94113  1345565.43   \n",
      "Flatscreen TV                           4819  1440000.00   34224  1445700.00   \n",
      "Google Phone                            5532  3315000.00   38305  3319200.00   \n",
      "LG Dryer                                 646   387600.00    4383   387600.00   \n",
      "LG Washing Machine                       666   399600.00    4523   399600.00   \n",
      "Lightning Charging Cable               23217   323787.10  153092   347094.15   \n",
      "Macbook Pro Laptop                      4728  8030800.00   33548  8037600.00   \n",
      "ThinkPad Laptop                         4130  4127958.72   28950  4129958.70   \n",
      "USB-C Charging Cable                   23975   261740.85  154819   286501.25   \n",
      "Vareebadd Phone                         2068   826000.00   14309   827200.00   \n",
      "Wired Headphones                       20557   226395.18  133397   246478.43   \n",
      "iPhone                                  6849  4789400.00   47941  4794300.00   \n",
      "\n",
      "                              Hour  Minute  Count  \n",
      "Product                                            \n",
      "20in Monitor                 58764  122252   4101  \n",
      "27in 4K Gaming Monitor       90916  184331   6230  \n",
      "27in FHD Monitor            107540  219948   7507  \n",
      "34in Ultrawide Monitor       89076  183480   6181  \n",
      "AA Batteries (4-pack)       298342  609039  20577  \n",
      "AAA Batteries (4-pack)      297332  612113  20641  \n",
      "Apple Airpods Headphones    223304  455570  15549  \n",
      "Bose SoundSport Headphones  192445  392603  13325  \n",
      "Flatscreen TV                68815  142789   4800  \n",
      "Google Phone                 79479  162773   5525  \n",
      "LG Dryer                      9326   19043    646  \n",
      "LG Washing Machine            9785   19462    666  \n",
      "Lightning Charging Cable    312529  634442  21658  \n",
      "Macbook Pro Laptop           68261  137574   4724  \n",
      "ThinkPad Laptop              59746  121508   4128  \n",
      "USB-C Charging Cable        314645  647586  21903  \n",
      "Vareebadd Phone              29472   61835   2065  \n",
      "Wired Headphones            271720  554023  18882  \n",
      "iPhone                       98657  201688   6842  \n"
     ]
    },
    {
     "data": {
      "image/png": "[encoded data removed]",
      "text/plain": [
       "<Figure size 640x480 with 1 Axes>"
      ]
     },
     "metadata": {},
     "output_type": "display_data"
    }
   ],
   "source": [
    "## Get the sum of all ordered quantities of each product\n",
    "# print(df_all_sales)\n",
    "product_group = df_all_sales.groupby('Product')\n",
    "## Just show the \"Quantity Ordered\" column\n",
    "print(product_group.sum())\n",
    "quantity_ordered = product_group.sum()['Quantity Ordered']\n",
    "# print(quantity_ordered)\n",
    "\n",
    "## Visualize the results\n",
    "products = [product for product, df in product_group]\n",
    "# print(products)\n",
    "plt.bar(products, quantity_ordered, color='#008080')\n",
    "plt.xlabel(\"Product\")\n",
    "plt.ylabel(\"Total Quantity Ordered\")\n",
    "plt.xticks(products, rotation='vertical', size=8)\n",
    "plt.show()"
   ]
  },
  {
   "cell_type": "code",
   "execution_count": 135,
   "metadata": {},
   "outputs": [
    {
     "name": "stderr",
     "output_type": "stream",
     "text": [
      "C:\\Users\\Asus\\AppData\\Local\\Temp\\ipykernel_18868\\2432056224.py:32: UserWarning: FixedFormatter should only be used together with FixedLocator\n",
      "  ax1.set_xticklabels(products, rotation='vertical', size=8)\n",
      "C:\\Users\\Asus\\AppData\\Local\\Temp\\ipykernel_18868\\2432056224.py:33: UserWarning: Matplotlib is currently using module://matplotlib_inline.backend_inline, which is a non-GUI backend, so cannot show the figure.\n",
      "  fig.show()\n"
     ]
    },
    {
     "data": {
      "image/png": "[encoded data removed]",
      "text/plain": [
       "<Figure size 640x480 with 2 Axes>"
      ]
     },
     "metadata": {},
     "output_type": "display_data"
    }
   ],
   "source": [
    "## List all the price for each product\n",
    "# print(df_all_sales)\n",
    "# print(df_all_sales.groupby('Product').mean())\n",
    "products_prices = df_all_sales.groupby('Product').mean()['Price Each']\n",
    "\n",
    "## Test how to use subplots()\n",
    "# fig, ax = plt.subplots()\n",
    "# print(fig)\n",
    "# print(ax)\n",
    "# fig, axs = plt.subplots(2, 2)\n",
    "# print(fig)\n",
    "# print(axs)\n",
    "# fig, (ax1, ax2) = plt.subplots(1, 2)\n",
    "# print(fig)\n",
    "# print((ax1, ax2))\n",
    "\n",
    "## Visualize the results\n",
    "## Create a figure and an Axes object\n",
    "fig, ax1 = plt.subplots()\n",
    "## Create a twin Axes sharing the x-axis\n",
    "## Create a new Axes with an invisible x-axis and an independent y-axis\n",
    "ax2 = ax1.twinx()\n",
    "## Y-axis 1 shares the same scale as the previous bar chart\n",
    "ax1.bar(products, quantity_ordered, color='#008080')\n",
    "## Same x-axis\n",
    "## Y-axis 2 uses \"Price Each\" column series from above\n",
    "ax2.plot(products, products_prices, color='#7F00FF')\n",
    "## Set the label of x- and y-axes\n",
    "ax1.set_xlabel('Product Name', color='#483D8B')\n",
    "ax1.set_ylabel('Quantity Ordered', color='royalblue')\n",
    "ax2.set_ylabel('Price ($)', color='crimson')\n",
    "ax1.set_xticklabels(products, rotation='vertical', size=8)\n",
    "fig.show()"
   ]
  },
  {
   "cell_type": "markdown",
   "metadata": {},
   "source": [
    "**Answer**"
   ]
  },
  {
   "cell_type": "markdown",
   "metadata": {},
   "source": []
  }
 ],
 "metadata": {
  "kernelspec": {
   "display_name": "Python 3.8.13 ('base')",
   "language": "python",
   "name": "python3"
  },
  "language_info": {
   "codemirror_mode": {
    "name": "ipython",
    "version": 3
   },
   "file_extension": ".py",
   "mimetype": "text/x-python",
   "name": "python",
   "nbconvert_exporter": "python",
   "pygments_lexer": "ipython3",
   "version": "3.8.13"
  },
  "vscode": {
   "interpreter": {
    "hash": "2011e8f1b66e4ca782a16183c079a9a8ceaa771eb94b3143f514bb5560527e59"
   }
  }
 },
 "nbformat": 4,
 "nbformat_minor": 2
}
